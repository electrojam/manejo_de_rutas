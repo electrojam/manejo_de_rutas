{
 "cells": [
  {
   "cell_type": "code",
   "execution_count": 1,
   "metadata": {},
   "outputs": [],
   "source": [
    "import os"
   ]
  },
  {
   "cell_type": "code",
   "execution_count": 4,
   "metadata": {},
   "outputs": [
    {
     "name": "stdout",
     "output_type": "stream",
     "text": [
      "/home/jam/cookiecutter-personal/manejo_de_rutas/notebooks\n",
      "..\n",
      "/home/jam/cookiecutter-personal/manejo_de_rutas/notebooks/../data/raw\n"
     ]
    }
   ],
   "source": [
    "CURRENT_DIR = os.getcwd() #ruta actual de trabajo\n",
    "print(CURRENT_DIR  )\n",
    "print(os.pardir)\n",
    "DATA_DIR = os.path.join(CURRENT_DIR, os.pardir, \"data\", \"raw\")\n",
    "print(DATA_DIR)"
   ]
  },
  {
   "cell_type": "code",
   "execution_count": 3,
   "metadata": {},
   "outputs": [
    {
     "name": "stdout",
     "output_type": "stream",
     "text": [
      "True\n",
      "True\n"
     ]
    }
   ],
   "source": [
    "print(os.path.exists(DATA_DIR))\n",
    "print(os.path.isdir(DATA_DIR))"
   ]
  },
  {
   "cell_type": "code",
   "execution_count": 5,
   "metadata": {},
   "outputs": [
    {
     "data": {
      "text/plain": [
       "['/home/jam/cookiecutter-personal/manejo_de_rutas/notebooks/../data/raw/.gitkeep']"
      ]
     },
     "execution_count": 5,
     "metadata": {},
     "output_type": "execute_result"
    }
   ],
   "source": [
    "[os.path.join(DATA_DIR, item) for item in os.listdir(DATA_DIR)]"
   ]
  },
  {
   "cell_type": "code",
   "execution_count": 6,
   "metadata": {},
   "outputs": [],
   "source": [
    "os.mkdir(os.path.join(DATA_DIR, \"os\"))"
   ]
  }
 ],
 "metadata": {
  "kernelspec": {
   "display_name": "manejo_de_rutas",
   "language": "python",
   "name": "python3"
  },
  "language_info": {
   "codemirror_mode": {
    "name": "ipython",
    "version": 3
   },
   "file_extension": ".py",
   "mimetype": "text/x-python",
   "name": "python",
   "nbconvert_exporter": "python",
   "pygments_lexer": "ipython3",
   "version": "3.9.18"
  }
 },
 "nbformat": 4,
 "nbformat_minor": 2
}
